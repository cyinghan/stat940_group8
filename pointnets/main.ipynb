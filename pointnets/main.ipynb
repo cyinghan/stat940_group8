{
 "cells": [
  {
   "cell_type": "code",
   "execution_count": null,
   "id": "shaped-theory",
   "metadata": {},
   "outputs": [],
   "source": [
    "from models import *\n",
    "\n",
    "import torch_geometric.transforms as T\n",
    "from torch_geometric.datasets import ModelNet\n",
    "from torch_geometric.loader import DataLoader\n",
    "\n",
    "# Hyperparameters\n",
    "EPOCHS = 100\n",
    "\n",
    "train_dataset = ModelNet('./dataset', name='10', transform=T.SamplePoints(1000))\n",
    "test_dataset = ModelNet('./dataset', name='10', train=False, transform=T.SamplePoints(1000))\n",
    "train_loader = DataLoader(train_dataset, batch_size=128, shuffle=True)\n",
    "test_loader = DataLoader(test_dataset, batch_size=128, shuffle=True)\n",
    "pointnet = PointNet(3, 10).to(device)"
   ]
  },
  {
   "cell_type": "code",
   "execution_count": null,
   "id": "trained-nicholas",
   "metadata": {},
   "outputs": [],
   "source": [
    "losses = []\n",
    "best_validation = 0\n",
    "best_model = None\n",
    "for e in range(EPOCHS):\n",
    "    print(f\" epoch {e+1}/{EPOCHS}\")\n",
    "    loss, predict, truth, v_predict, v_truth = train(pointnet, train_loader, test_loader)\n",
    "    matches = 0\n",
    "    for i, _ in enumerate(truth):\n",
    "        if predict[i]==truth[i]: matches += 1\n",
    "    v_matches = 0\n",
    "    for i, _ in enumerate(v_truth):\n",
    "        if v_predict[i]==v_truth[i]: v_matches += 1\n",
    "    v_acc = v_matches/len(v_truth)\n",
    "    print(f\" loss = {loss}\", \"Accuracy Training: {} - Validation: {}\".format(matches/len(truth), v_acc))\n",
    "    losses.append(loss)\n",
    "    if best_validation < v_acc: \n",
    "        torch.save(pointnet.state_dict(), 'saved_best_model.pkl')\n",
    "        best_validation = v_acc"
   ]
  },
  {
   "cell_type": "code",
   "execution_count": null,
   "id": "mighty-atlanta",
   "metadata": {},
   "outputs": [],
   "source": [
    "data = next(iter(test_loader))"
   ]
  },
  {
   "cell_type": "code",
   "execution_count": null,
   "id": "alike-birth",
   "metadata": {},
   "outputs": [],
   "source": [
    "index = 3121\n",
    "\n",
    "# pos = (data.pos[:2500] - torch.mean(data.pos[:2500]))/torch.std(data.pos[:2500])\n",
    "pos = data.pos[:2500] \n",
    "pos = shift_point_cloud(pos.unsqueeze(0))\n",
    "x = pos[:,:,0]\n",
    "y = pos[:,:,1]\n",
    "z = pos[:,:,2]\n",
    "\n",
    "%matplotlib widget\n",
    "  \n",
    "# importing required libraries\n",
    "from mpl_toolkits.mplot3d import Axes3D\n",
    "import matplotlib.pyplot as plt\n",
    "# creating figure\n",
    "fig = plt.figure()\n",
    "ax = Axes3D(fig)\n",
    "# creating the plot\n",
    "plot_geeks = ax.scatter(x, y, z, color='green')\n",
    "# setting title and labels\n",
    "ax.set_title(\"3D plot\")\n",
    "ax.set_xlabel('x-axis')\n",
    "ax.set_ylabel('y-axis')\n",
    "ax.set_zlabel('z-axis')\n",
    "# displaying the plot\n",
    "plt.show()"
   ]
  }
 ],
 "metadata": {
  "kernelspec": {
   "display_name": "Python 3",
   "language": "python",
   "name": "python3"
  },
  "language_info": {
   "codemirror_mode": {
    "name": "ipython",
    "version": 3
   },
   "file_extension": ".py",
   "mimetype": "text/x-python",
   "name": "python",
   "nbconvert_exporter": "python",
   "pygments_lexer": "ipython3",
   "version": "3.8.10"
  }
 },
 "nbformat": 4,
 "nbformat_minor": 5
}
